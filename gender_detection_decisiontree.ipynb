{
  "nbformat": 4,
  "nbformat_minor": 0,
  "metadata": {
    "colab": {
      "provenance": []
    },
    "kernelspec": {
      "name": "python3",
      "display_name": "Python 3"
    },
    "language_info": {
      "name": "python"
    }
  },
  "cells": [
    {
      "cell_type": "code",
      "execution_count": null,
      "metadata": {
        "id": "qao31Hltqq23"
      },
      "outputs": [],
      "source": [
        "import numpy as np\n",
        "import pandas as pd\n",
        "import seaborn as sns\n",
        "df=pd.read_csv('/content/gender.csv')"
      ]
    },
    {
      "cell_type": "code",
      "source": [
        "df.head()"
      ],
      "metadata": {
        "colab": {
          "base_uri": "https://localhost:8080/",
          "height": 206
        },
        "id": "rj5szdHtrIZl",
        "outputId": "12599ed5-773c-42b8-a7d1-43bee2e867d0"
      },
      "execution_count": null,
      "outputs": [
        {
          "output_type": "execute_result",
          "data": {
            "text/plain": [
              "    Gender   Age   Height (cm)   Weight (kg)             Occupation  \\\n",
              "0     male    32           175            70      Software Engineer   \n",
              "1     male    25           182            85   Sales Representative   \n",
              "2   female    41           160            62                 Doctor   \n",
              "3     male    38           178            79                 Lawyer   \n",
              "4   female    29           165            58       Graphic Designer   \n",
              "\n",
              "       Education Level  Marital Status   Income (USD)  Favorite Color  \\\n",
              "0      Master's Degree         Married          75000            Blue   \n",
              "1    Bachelor's Degree          Single          45000           Green   \n",
              "2     Doctorate Degree         Married         120000          Purple   \n",
              "3    Bachelor's Degree          Single          90000             Red   \n",
              "4   Associate's Degree          Single          35000          Yellow   \n",
              "\n",
              "   Unnamed: 9  \n",
              "0         NaN  \n",
              "1         NaN  \n",
              "2         NaN  \n",
              "3         NaN  \n",
              "4         NaN  "
            ],
            "text/html": [
              "\n",
              "  <div id=\"df-a61f6178-a14b-4329-9cc1-267572af89e4\">\n",
              "    <div class=\"colab-df-container\">\n",
              "      <div>\n",
              "<style scoped>\n",
              "    .dataframe tbody tr th:only-of-type {\n",
              "        vertical-align: middle;\n",
              "    }\n",
              "\n",
              "    .dataframe tbody tr th {\n",
              "        vertical-align: top;\n",
              "    }\n",
              "\n",
              "    .dataframe thead th {\n",
              "        text-align: right;\n",
              "    }\n",
              "</style>\n",
              "<table border=\"1\" class=\"dataframe\">\n",
              "  <thead>\n",
              "    <tr style=\"text-align: right;\">\n",
              "      <th></th>\n",
              "      <th>Gender</th>\n",
              "      <th>Age</th>\n",
              "      <th>Height (cm)</th>\n",
              "      <th>Weight (kg)</th>\n",
              "      <th>Occupation</th>\n",
              "      <th>Education Level</th>\n",
              "      <th>Marital Status</th>\n",
              "      <th>Income (USD)</th>\n",
              "      <th>Favorite Color</th>\n",
              "      <th>Unnamed: 9</th>\n",
              "    </tr>\n",
              "  </thead>\n",
              "  <tbody>\n",
              "    <tr>\n",
              "      <th>0</th>\n",
              "      <td>male</td>\n",
              "      <td>32</td>\n",
              "      <td>175</td>\n",
              "      <td>70</td>\n",
              "      <td>Software Engineer</td>\n",
              "      <td>Master's Degree</td>\n",
              "      <td>Married</td>\n",
              "      <td>75000</td>\n",
              "      <td>Blue</td>\n",
              "      <td>NaN</td>\n",
              "    </tr>\n",
              "    <tr>\n",
              "      <th>1</th>\n",
              "      <td>male</td>\n",
              "      <td>25</td>\n",
              "      <td>182</td>\n",
              "      <td>85</td>\n",
              "      <td>Sales Representative</td>\n",
              "      <td>Bachelor's Degree</td>\n",
              "      <td>Single</td>\n",
              "      <td>45000</td>\n",
              "      <td>Green</td>\n",
              "      <td>NaN</td>\n",
              "    </tr>\n",
              "    <tr>\n",
              "      <th>2</th>\n",
              "      <td>female</td>\n",
              "      <td>41</td>\n",
              "      <td>160</td>\n",
              "      <td>62</td>\n",
              "      <td>Doctor</td>\n",
              "      <td>Doctorate Degree</td>\n",
              "      <td>Married</td>\n",
              "      <td>120000</td>\n",
              "      <td>Purple</td>\n",
              "      <td>NaN</td>\n",
              "    </tr>\n",
              "    <tr>\n",
              "      <th>3</th>\n",
              "      <td>male</td>\n",
              "      <td>38</td>\n",
              "      <td>178</td>\n",
              "      <td>79</td>\n",
              "      <td>Lawyer</td>\n",
              "      <td>Bachelor's Degree</td>\n",
              "      <td>Single</td>\n",
              "      <td>90000</td>\n",
              "      <td>Red</td>\n",
              "      <td>NaN</td>\n",
              "    </tr>\n",
              "    <tr>\n",
              "      <th>4</th>\n",
              "      <td>female</td>\n",
              "      <td>29</td>\n",
              "      <td>165</td>\n",
              "      <td>58</td>\n",
              "      <td>Graphic Designer</td>\n",
              "      <td>Associate's Degree</td>\n",
              "      <td>Single</td>\n",
              "      <td>35000</td>\n",
              "      <td>Yellow</td>\n",
              "      <td>NaN</td>\n",
              "    </tr>\n",
              "  </tbody>\n",
              "</table>\n",
              "</div>\n",
              "      <button class=\"colab-df-convert\" onclick=\"convertToInteractive('df-a61f6178-a14b-4329-9cc1-267572af89e4')\"\n",
              "              title=\"Convert this dataframe to an interactive table.\"\n",
              "              style=\"display:none;\">\n",
              "        \n",
              "  <svg xmlns=\"http://www.w3.org/2000/svg\" height=\"24px\"viewBox=\"0 0 24 24\"\n",
              "       width=\"24px\">\n",
              "    <path d=\"M0 0h24v24H0V0z\" fill=\"none\"/>\n",
              "    <path d=\"M18.56 5.44l.94 2.06.94-2.06 2.06-.94-2.06-.94-.94-2.06-.94 2.06-2.06.94zm-11 1L8.5 8.5l.94-2.06 2.06-.94-2.06-.94L8.5 2.5l-.94 2.06-2.06.94zm10 10l.94 2.06.94-2.06 2.06-.94-2.06-.94-.94-2.06-.94 2.06-2.06.94z\"/><path d=\"M17.41 7.96l-1.37-1.37c-.4-.4-.92-.59-1.43-.59-.52 0-1.04.2-1.43.59L10.3 9.45l-7.72 7.72c-.78.78-.78 2.05 0 2.83L4 21.41c.39.39.9.59 1.41.59.51 0 1.02-.2 1.41-.59l7.78-7.78 2.81-2.81c.8-.78.8-2.07 0-2.86zM5.41 20L4 18.59l7.72-7.72 1.47 1.35L5.41 20z\"/>\n",
              "  </svg>\n",
              "      </button>\n",
              "      \n",
              "  <style>\n",
              "    .colab-df-container {\n",
              "      display:flex;\n",
              "      flex-wrap:wrap;\n",
              "      gap: 12px;\n",
              "    }\n",
              "\n",
              "    .colab-df-convert {\n",
              "      background-color: #E8F0FE;\n",
              "      border: none;\n",
              "      border-radius: 50%;\n",
              "      cursor: pointer;\n",
              "      display: none;\n",
              "      fill: #1967D2;\n",
              "      height: 32px;\n",
              "      padding: 0 0 0 0;\n",
              "      width: 32px;\n",
              "    }\n",
              "\n",
              "    .colab-df-convert:hover {\n",
              "      background-color: #E2EBFA;\n",
              "      box-shadow: 0px 1px 2px rgba(60, 64, 67, 0.3), 0px 1px 3px 1px rgba(60, 64, 67, 0.15);\n",
              "      fill: #174EA6;\n",
              "    }\n",
              "\n",
              "    [theme=dark] .colab-df-convert {\n",
              "      background-color: #3B4455;\n",
              "      fill: #D2E3FC;\n",
              "    }\n",
              "\n",
              "    [theme=dark] .colab-df-convert:hover {\n",
              "      background-color: #434B5C;\n",
              "      box-shadow: 0px 1px 3px 1px rgba(0, 0, 0, 0.15);\n",
              "      filter: drop-shadow(0px 1px 2px rgba(0, 0, 0, 0.3));\n",
              "      fill: #FFFFFF;\n",
              "    }\n",
              "  </style>\n",
              "\n",
              "      <script>\n",
              "        const buttonEl =\n",
              "          document.querySelector('#df-a61f6178-a14b-4329-9cc1-267572af89e4 button.colab-df-convert');\n",
              "        buttonEl.style.display =\n",
              "          google.colab.kernel.accessAllowed ? 'block' : 'none';\n",
              "\n",
              "        async function convertToInteractive(key) {\n",
              "          const element = document.querySelector('#df-a61f6178-a14b-4329-9cc1-267572af89e4');\n",
              "          const dataTable =\n",
              "            await google.colab.kernel.invokeFunction('convertToInteractive',\n",
              "                                                     [key], {});\n",
              "          if (!dataTable) return;\n",
              "\n",
              "          const docLinkHtml = 'Like what you see? Visit the ' +\n",
              "            '<a target=\"_blank\" href=https://colab.research.google.com/notebooks/data_table.ipynb>data table notebook</a>'\n",
              "            + ' to learn more about interactive tables.';\n",
              "          element.innerHTML = '';\n",
              "          dataTable['output_type'] = 'display_data';\n",
              "          await google.colab.output.renderOutput(dataTable, element);\n",
              "          const docLink = document.createElement('div');\n",
              "          docLink.innerHTML = docLinkHtml;\n",
              "          element.appendChild(docLink);\n",
              "        }\n",
              "      </script>\n",
              "    </div>\n",
              "  </div>\n",
              "  "
            ]
          },
          "metadata": {},
          "execution_count": 3
        }
      ]
    },
    {
      "cell_type": "code",
      "source": [
        "df.tail()"
      ],
      "metadata": {
        "colab": {
          "base_uri": "https://localhost:8080/",
          "height": 206
        },
        "id": "JOltr-dyrMH_",
        "outputId": "d8176469-44e1-439f-a9f2-4879e36a4ccc"
      },
      "execution_count": null,
      "outputs": [
        {
          "output_type": "execute_result",
          "data": {
            "text/plain": [
              "     Gender   Age   Height (cm)   Weight (kg)            Occupation  \\\n",
              "126  female    32           170            64                 Nurse   \n",
              "127    male    38           176            79       Project Manager   \n",
              "128  female    27           162            55      Graphic Designer   \n",
              "129    male    33           175            77  Sales Representative   \n",
              "130  female    29           164            57    Software Developer   \n",
              "\n",
              "        Education Level  Marital Status   Income (USD)  Favorite Color  \\\n",
              "126  Associate's Degree          Single          60000          Orange   \n",
              "127   Bachelor's Degree         Married          90000           Black   \n",
              "128  Associate's Degree          Single          55000           Green   \n",
              "129   Bachelor's Degree         Married          80000          Yellow   \n",
              "130   Bachelor's Degree          Single          65000            Blue   \n",
              "\n",
              "     Unnamed: 9  \n",
              "126         NaN  \n",
              "127         NaN  \n",
              "128         NaN  \n",
              "129         NaN  \n",
              "130         NaN  "
            ],
            "text/html": [
              "\n",
              "  <div id=\"df-e05b48dd-400d-42f5-a161-a720f2f518d1\">\n",
              "    <div class=\"colab-df-container\">\n",
              "      <div>\n",
              "<style scoped>\n",
              "    .dataframe tbody tr th:only-of-type {\n",
              "        vertical-align: middle;\n",
              "    }\n",
              "\n",
              "    .dataframe tbody tr th {\n",
              "        vertical-align: top;\n",
              "    }\n",
              "\n",
              "    .dataframe thead th {\n",
              "        text-align: right;\n",
              "    }\n",
              "</style>\n",
              "<table border=\"1\" class=\"dataframe\">\n",
              "  <thead>\n",
              "    <tr style=\"text-align: right;\">\n",
              "      <th></th>\n",
              "      <th>Gender</th>\n",
              "      <th>Age</th>\n",
              "      <th>Height (cm)</th>\n",
              "      <th>Weight (kg)</th>\n",
              "      <th>Occupation</th>\n",
              "      <th>Education Level</th>\n",
              "      <th>Marital Status</th>\n",
              "      <th>Income (USD)</th>\n",
              "      <th>Favorite Color</th>\n",
              "      <th>Unnamed: 9</th>\n",
              "    </tr>\n",
              "  </thead>\n",
              "  <tbody>\n",
              "    <tr>\n",
              "      <th>126</th>\n",
              "      <td>female</td>\n",
              "      <td>32</td>\n",
              "      <td>170</td>\n",
              "      <td>64</td>\n",
              "      <td>Nurse</td>\n",
              "      <td>Associate's Degree</td>\n",
              "      <td>Single</td>\n",
              "      <td>60000</td>\n",
              "      <td>Orange</td>\n",
              "      <td>NaN</td>\n",
              "    </tr>\n",
              "    <tr>\n",
              "      <th>127</th>\n",
              "      <td>male</td>\n",
              "      <td>38</td>\n",
              "      <td>176</td>\n",
              "      <td>79</td>\n",
              "      <td>Project Manager</td>\n",
              "      <td>Bachelor's Degree</td>\n",
              "      <td>Married</td>\n",
              "      <td>90000</td>\n",
              "      <td>Black</td>\n",
              "      <td>NaN</td>\n",
              "    </tr>\n",
              "    <tr>\n",
              "      <th>128</th>\n",
              "      <td>female</td>\n",
              "      <td>27</td>\n",
              "      <td>162</td>\n",
              "      <td>55</td>\n",
              "      <td>Graphic Designer</td>\n",
              "      <td>Associate's Degree</td>\n",
              "      <td>Single</td>\n",
              "      <td>55000</td>\n",
              "      <td>Green</td>\n",
              "      <td>NaN</td>\n",
              "    </tr>\n",
              "    <tr>\n",
              "      <th>129</th>\n",
              "      <td>male</td>\n",
              "      <td>33</td>\n",
              "      <td>175</td>\n",
              "      <td>77</td>\n",
              "      <td>Sales Representative</td>\n",
              "      <td>Bachelor's Degree</td>\n",
              "      <td>Married</td>\n",
              "      <td>80000</td>\n",
              "      <td>Yellow</td>\n",
              "      <td>NaN</td>\n",
              "    </tr>\n",
              "    <tr>\n",
              "      <th>130</th>\n",
              "      <td>female</td>\n",
              "      <td>29</td>\n",
              "      <td>164</td>\n",
              "      <td>57</td>\n",
              "      <td>Software Developer</td>\n",
              "      <td>Bachelor's Degree</td>\n",
              "      <td>Single</td>\n",
              "      <td>65000</td>\n",
              "      <td>Blue</td>\n",
              "      <td>NaN</td>\n",
              "    </tr>\n",
              "  </tbody>\n",
              "</table>\n",
              "</div>\n",
              "      <button class=\"colab-df-convert\" onclick=\"convertToInteractive('df-e05b48dd-400d-42f5-a161-a720f2f518d1')\"\n",
              "              title=\"Convert this dataframe to an interactive table.\"\n",
              "              style=\"display:none;\">\n",
              "        \n",
              "  <svg xmlns=\"http://www.w3.org/2000/svg\" height=\"24px\"viewBox=\"0 0 24 24\"\n",
              "       width=\"24px\">\n",
              "    <path d=\"M0 0h24v24H0V0z\" fill=\"none\"/>\n",
              "    <path d=\"M18.56 5.44l.94 2.06.94-2.06 2.06-.94-2.06-.94-.94-2.06-.94 2.06-2.06.94zm-11 1L8.5 8.5l.94-2.06 2.06-.94-2.06-.94L8.5 2.5l-.94 2.06-2.06.94zm10 10l.94 2.06.94-2.06 2.06-.94-2.06-.94-.94-2.06-.94 2.06-2.06.94z\"/><path d=\"M17.41 7.96l-1.37-1.37c-.4-.4-.92-.59-1.43-.59-.52 0-1.04.2-1.43.59L10.3 9.45l-7.72 7.72c-.78.78-.78 2.05 0 2.83L4 21.41c.39.39.9.59 1.41.59.51 0 1.02-.2 1.41-.59l7.78-7.78 2.81-2.81c.8-.78.8-2.07 0-2.86zM5.41 20L4 18.59l7.72-7.72 1.47 1.35L5.41 20z\"/>\n",
              "  </svg>\n",
              "      </button>\n",
              "      \n",
              "  <style>\n",
              "    .colab-df-container {\n",
              "      display:flex;\n",
              "      flex-wrap:wrap;\n",
              "      gap: 12px;\n",
              "    }\n",
              "\n",
              "    .colab-df-convert {\n",
              "      background-color: #E8F0FE;\n",
              "      border: none;\n",
              "      border-radius: 50%;\n",
              "      cursor: pointer;\n",
              "      display: none;\n",
              "      fill: #1967D2;\n",
              "      height: 32px;\n",
              "      padding: 0 0 0 0;\n",
              "      width: 32px;\n",
              "    }\n",
              "\n",
              "    .colab-df-convert:hover {\n",
              "      background-color: #E2EBFA;\n",
              "      box-shadow: 0px 1px 2px rgba(60, 64, 67, 0.3), 0px 1px 3px 1px rgba(60, 64, 67, 0.15);\n",
              "      fill: #174EA6;\n",
              "    }\n",
              "\n",
              "    [theme=dark] .colab-df-convert {\n",
              "      background-color: #3B4455;\n",
              "      fill: #D2E3FC;\n",
              "    }\n",
              "\n",
              "    [theme=dark] .colab-df-convert:hover {\n",
              "      background-color: #434B5C;\n",
              "      box-shadow: 0px 1px 3px 1px rgba(0, 0, 0, 0.15);\n",
              "      filter: drop-shadow(0px 1px 2px rgba(0, 0, 0, 0.3));\n",
              "      fill: #FFFFFF;\n",
              "    }\n",
              "  </style>\n",
              "\n",
              "      <script>\n",
              "        const buttonEl =\n",
              "          document.querySelector('#df-e05b48dd-400d-42f5-a161-a720f2f518d1 button.colab-df-convert');\n",
              "        buttonEl.style.display =\n",
              "          google.colab.kernel.accessAllowed ? 'block' : 'none';\n",
              "\n",
              "        async function convertToInteractive(key) {\n",
              "          const element = document.querySelector('#df-e05b48dd-400d-42f5-a161-a720f2f518d1');\n",
              "          const dataTable =\n",
              "            await google.colab.kernel.invokeFunction('convertToInteractive',\n",
              "                                                     [key], {});\n",
              "          if (!dataTable) return;\n",
              "\n",
              "          const docLinkHtml = 'Like what you see? Visit the ' +\n",
              "            '<a target=\"_blank\" href=https://colab.research.google.com/notebooks/data_table.ipynb>data table notebook</a>'\n",
              "            + ' to learn more about interactive tables.';\n",
              "          element.innerHTML = '';\n",
              "          dataTable['output_type'] = 'display_data';\n",
              "          await google.colab.output.renderOutput(dataTable, element);\n",
              "          const docLink = document.createElement('div');\n",
              "          docLink.innerHTML = docLinkHtml;\n",
              "          element.appendChild(docLink);\n",
              "        }\n",
              "      </script>\n",
              "    </div>\n",
              "  </div>\n",
              "  "
            ]
          },
          "metadata": {},
          "execution_count": 4
        }
      ]
    },
    {
      "cell_type": "code",
      "source": [
        "df.shape"
      ],
      "metadata": {
        "colab": {
          "base_uri": "https://localhost:8080/"
        },
        "id": "LQvlpudhrSOg",
        "outputId": "ed748032-6006-4898-ef7b-bf26ea48d725"
      },
      "execution_count": null,
      "outputs": [
        {
          "output_type": "execute_result",
          "data": {
            "text/plain": [
              "(131, 10)"
            ]
          },
          "metadata": {},
          "execution_count": 7
        }
      ]
    },
    {
      "cell_type": "code",
      "source": [
        "df.isna().sum()"
      ],
      "metadata": {
        "colab": {
          "base_uri": "https://localhost:8080/"
        },
        "id": "3JIG7B4srN0w",
        "outputId": "4b54d3c9-2e46-4e3e-86d2-a2556ec4071e"
      },
      "execution_count": null,
      "outputs": [
        {
          "output_type": "execute_result",
          "data": {
            "text/plain": [
              " Gender               0\n",
              " Age                  0\n",
              " Height (cm)          0\n",
              " Weight (kg)          0\n",
              " Occupation           0\n",
              " Education Level      0\n",
              " Marital Status       0\n",
              " Income (USD)         0\n",
              " Favorite Color       0\n",
              "Unnamed: 9          131\n",
              "dtype: int64"
            ]
          },
          "metadata": {},
          "execution_count": 5
        }
      ]
    },
    {
      "cell_type": "code",
      "source": [
        "df=df.drop(['Unnamed: 9'],axis=1)"
      ],
      "metadata": {
        "id": "Wu2GRifOrYMR"
      },
      "execution_count": null,
      "outputs": []
    },
    {
      "cell_type": "code",
      "source": [
        "df.columns\n"
      ],
      "metadata": {
        "colab": {
          "base_uri": "https://localhost:8080/"
        },
        "id": "4EdnqciOrgZh",
        "outputId": "12b0095a-ab1e-42e2-e3e7-1ce8afa86573"
      },
      "execution_count": null,
      "outputs": [
        {
          "output_type": "execute_result",
          "data": {
            "text/plain": [
              "Index([' Gender', ' Age', ' Height (cm)', ' Weight (kg)', ' Occupation',\n",
              "       ' Education Level', ' Marital Status', ' Income (USD)',\n",
              "       ' Favorite Color'],\n",
              "      dtype='object')"
            ]
          },
          "metadata": {},
          "execution_count": 9
        }
      ]
    },
    {
      "cell_type": "code",
      "source": [
        "df.isna().sum()"
      ],
      "metadata": {
        "colab": {
          "base_uri": "https://localhost:8080/"
        },
        "id": "FJB2BiMgrjnA",
        "outputId": "6576674c-8865-4d1f-a8c4-00398e11ed1d"
      },
      "execution_count": null,
      "outputs": [
        {
          "output_type": "execute_result",
          "data": {
            "text/plain": [
              " Gender             0\n",
              " Age                0\n",
              " Height (cm)        0\n",
              " Weight (kg)        0\n",
              " Occupation         0\n",
              " Education Level    0\n",
              " Marital Status     0\n",
              " Income (USD)       0\n",
              " Favorite Color     0\n",
              "dtype: int64"
            ]
          },
          "metadata": {},
          "execution_count": 10
        }
      ]
    },
    {
      "cell_type": "code",
      "source": [
        "sns.countplot(y=' Gender',data=df)"
      ],
      "metadata": {
        "colab": {
          "base_uri": "https://localhost:8080/",
          "height": 296
        },
        "id": "ZsFPtKvDx0mo",
        "outputId": "2f701d1c-dc9b-4bd5-a443-2686f621bf3e"
      },
      "execution_count": null,
      "outputs": [
        {
          "output_type": "execute_result",
          "data": {
            "text/plain": [
              "<AxesSubplot:xlabel='count', ylabel=' Gender'>"
            ]
          },
          "metadata": {},
          "execution_count": 45
        },
        {
          "output_type": "display_data",
          "data": {
            "text/plain": [
              "<Figure size 432x288 with 1 Axes>"
            ],
            "image/png": "[encoded data removed]"
          },
          "metadata": {
            "needs_background": "light"
          }
        }
      ]
    },
    {
      "cell_type": "code",
      "source": [
        "sns.boxplot(x=' Age', y=' Weight (kg)', data=df)"
      ],
      "metadata": {
        "colab": {
          "base_uri": "https://localhost:8080/",
          "height": 296
        },
        "id": "bqe53G_KyVII",
        "outputId": "7da3bf2f-0e34-4182-b3e8-1afc54af8659"
      },
      "execution_count": null,
      "outputs": [
        {
          "output_type": "execute_result",
          "data": {
            "text/plain": [
              "<AxesSubplot:xlabel=' Age', ylabel=' Weight (kg)'>"
            ]
          },
          "metadata": {},
          "execution_count": 61
        },
        {
          "output_type": "display_data",
          "data": {
            "text/plain": [
              "<Figure size 432x288 with 1 Axes>"
            ],
            "image/png": "[encoded data removed]"
          },
          "metadata": {
            "needs_background": "light"
          }
        }
      ]
    },
    {
      "cell_type": "code",
      "source": [],
      "metadata": {
        "id": "udnlo4g50NQZ"
      },
      "execution_count": null,
      "outputs": []
    },
    {
      "cell_type": "code",
      "source": [
        "from sklearn.preprocessing import LabelEncoder\n",
        "le=LabelEncoder()\n",
        "df['gender']=le.fit_transform(df[' Gender'])\n",
        "df['occupation']=le.fit_transform(df[' Occupation'])\n",
        "df['education']=le.fit_transform(df[' Education Level'])\n",
        "df['marry']=le.fit_transform(df[' Marital Status'])\n",
        "df['color']=le.fit_transform(df[' Favorite Color'])\n",
        "\n"
      ],
      "metadata": {
        "id": "Ix4iZb4mr5Xx"
      },
      "execution_count": null,
      "outputs": []
    },
    {
      "cell_type": "code",
      "source": [
        "df.head()"
      ],
      "metadata": {
        "colab": {
          "base_uri": "https://localhost:8080/",
          "height": 250
        },
        "id": "zRJQCFBzuPbA",
        "outputId": "ab09c115-c8ec-4cdf-d48c-da4d492495a6"
      },
      "execution_count": null,
      "outputs": [
        {
          "output_type": "execute_result",
          "data": {
            "text/plain": [
              "    Gender   Age   Height (cm)   Weight (kg)             Occupation  \\\n",
              "0     male    32           175            70      Software Engineer   \n",
              "1     male    25           182            85   Sales Representative   \n",
              "2   female    41           160            62                 Doctor   \n",
              "3     male    38           178            79                 Lawyer   \n",
              "4   female    29           165            58       Graphic Designer   \n",
              "\n",
              "       Education Level  Marital Status   Income (USD)  Favorite Color  gender  \\\n",
              "0      Master's Degree         Married          75000            Blue       1   \n",
              "1    Bachelor's Degree          Single          45000           Green       1   \n",
              "2     Doctorate Degree         Married         120000          Purple       0   \n",
              "3    Bachelor's Degree          Single          90000             Red       1   \n",
              "4   Associate's Degree          Single          35000          Yellow       0   \n",
              "\n",
              "   occupation  education  marry  color  \n",
              "0          15          3      1      1  \n",
              "1          14          1      2      2  \n",
              "2           6          2      1      6  \n",
              "3          10          1      2      7  \n",
              "4           8          0      2      8  "
            ],
            "text/html": [
              "\n",
              "  <div id=\"df-312ffcc4-21f4-419a-819f-e2f573c8caf9\">\n",
              "    <div class=\"colab-df-container\">\n",
              "      <div>\n",
              "<style scoped>\n",
              "    .dataframe tbody tr th:only-of-type {\n",
              "        vertical-align: middle;\n",
              "    }\n",
              "\n",
              "    .dataframe tbody tr th {\n",
              "        vertical-align: top;\n",
              "    }\n",
              "\n",
              "    .dataframe thead th {\n",
              "        text-align: right;\n",
              "    }\n",
              "</style>\n",
              "<table border=\"1\" class=\"dataframe\">\n",
              "  <thead>\n",
              "    <tr style=\"text-align: right;\">\n",
              "      <th></th>\n",
              "      <th>Gender</th>\n",
              "      <th>Age</th>\n",
              "      <th>Height (cm)</th>\n",
              "      <th>Weight (kg)</th>\n",
              "      <th>Occupation</th>\n",
              "      <th>Education Level</th>\n",
              "      <th>Marital Status</th>\n",
              "      <th>Income (USD)</th>\n",
              "      <th>Favorite Color</th>\n",
              "      <th>gender</th>\n",
              "      <th>occupation</th>\n",
              "      <th>education</th>\n",
              "      <th>marry</th>\n",
              "      <th>color</th>\n",
              "    </tr>\n",
              "  </thead>\n",
              "  <tbody>\n",
              "    <tr>\n",
              "      <th>0</th>\n",
              "      <td>male</td>\n",
              "      <td>32</td>\n",
              "      <td>175</td>\n",
              "      <td>70</td>\n",
              "      <td>Software Engineer</td>\n",
              "      <td>Master's Degree</td>\n",
              "      <td>Married</td>\n",
              "      <td>75000</td>\n",
              "      <td>Blue</td>\n",
              "      <td>1</td>\n",
              "      <td>15</td>\n",
              "      <td>3</td>\n",
              "      <td>1</td>\n",
              "      <td>1</td>\n",
              "    </tr>\n",
              "    <tr>\n",
              "      <th>1</th>\n",
              "      <td>male</td>\n",
              "      <td>25</td>\n",
              "      <td>182</td>\n",
              "      <td>85</td>\n",
              "      <td>Sales Representative</td>\n",
              "      <td>Bachelor's Degree</td>\n",
              "      <td>Single</td>\n",
              "      <td>45000</td>\n",
              "      <td>Green</td>\n",
              "      <td>1</td>\n",
              "      <td>14</td>\n",
              "      <td>1</td>\n",
              "      <td>2</td>\n",
              "      <td>2</td>\n",
              "    </tr>\n",
              "    <tr>\n",
              "      <th>2</th>\n",
              "      <td>female</td>\n",
              "      <td>41</td>\n",
              "      <td>160</td>\n",
              "      <td>62</td>\n",
              "      <td>Doctor</td>\n",
              "      <td>Doctorate Degree</td>\n",
              "      <td>Married</td>\n",
              "      <td>120000</td>\n",
              "      <td>Purple</td>\n",
              "      <td>0</td>\n",
              "      <td>6</td>\n",
              "      <td>2</td>\n",
              "      <td>1</td>\n",
              "      <td>6</td>\n",
              "    </tr>\n",
              "    <tr>\n",
              "      <th>3</th>\n",
              "      <td>male</td>\n",
              "      <td>38</td>\n",
              "      <td>178</td>\n",
              "      <td>79</td>\n",
              "      <td>Lawyer</td>\n",
              "      <td>Bachelor's Degree</td>\n",
              "      <td>Single</td>\n",
              "      <td>90000</td>\n",
              "      <td>Red</td>\n",
              "      <td>1</td>\n",
              "      <td>10</td>\n",
              "      <td>1</td>\n",
              "      <td>2</td>\n",
              "      <td>7</td>\n",
              "    </tr>\n",
              "    <tr>\n",
              "      <th>4</th>\n",
              "      <td>female</td>\n",
              "      <td>29</td>\n",
              "      <td>165</td>\n",
              "      <td>58</td>\n",
              "      <td>Graphic Designer</td>\n",
              "      <td>Associate's Degree</td>\n",
              "      <td>Single</td>\n",
              "      <td>35000</td>\n",
              "      <td>Yellow</td>\n",
              "      <td>0</td>\n",
              "      <td>8</td>\n",
              "      <td>0</td>\n",
              "      <td>2</td>\n",
              "      <td>8</td>\n",
              "    </tr>\n",
              "  </tbody>\n",
              "</table>\n",
              "</div>\n",
              "      <button class=\"colab-df-convert\" onclick=\"convertToInteractive('df-312ffcc4-21f4-419a-819f-e2f573c8caf9')\"\n",
              "              title=\"Convert this dataframe to an interactive table.\"\n",
              "              style=\"display:none;\">\n",
              "        \n",
              "  <svg xmlns=\"http://www.w3.org/2000/svg\" height=\"24px\"viewBox=\"0 0 24 24\"\n",
              "       width=\"24px\">\n",
              "    <path d=\"M0 0h24v24H0V0z\" fill=\"none\"/>\n",
              "    <path d=\"M18.56 5.44l.94 2.06.94-2.06 2.06-.94-2.06-.94-.94-2.06-.94 2.06-2.06.94zm-11 1L8.5 8.5l.94-2.06 2.06-.94-2.06-.94L8.5 2.5l-.94 2.06-2.06.94zm10 10l.94 2.06.94-2.06 2.06-.94-2.06-.94-.94-2.06-.94 2.06-2.06.94z\"/><path d=\"M17.41 7.96l-1.37-1.37c-.4-.4-.92-.59-1.43-.59-.52 0-1.04.2-1.43.59L10.3 9.45l-7.72 7.72c-.78.78-.78 2.05 0 2.83L4 21.41c.39.39.9.59 1.41.59.51 0 1.02-.2 1.41-.59l7.78-7.78 2.81-2.81c.8-.78.8-2.07 0-2.86zM5.41 20L4 18.59l7.72-7.72 1.47 1.35L5.41 20z\"/>\n",
              "  </svg>\n",
              "      </button>\n",
              "      \n",
              "  <style>\n",
              "    .colab-df-container {\n",
              "      display:flex;\n",
              "      flex-wrap:wrap;\n",
              "      gap: 12px;\n",
              "    }\n",
              "\n",
              "    .colab-df-convert {\n",
              "      background-color: #E8F0FE;\n",
              "      border: none;\n",
              "      border-radius: 50%;\n",
              "      cursor: pointer;\n",
              "      display: none;\n",
              "      fill: #1967D2;\n",
              "      height: 32px;\n",
              "      padding: 0 0 0 0;\n",
              "      width: 32px;\n",
              "    }\n",
              "\n",
              "    .colab-df-convert:hover {\n",
              "      background-color: #E2EBFA;\n",
              "      box-shadow: 0px 1px 2px rgba(60, 64, 67, 0.3), 0px 1px 3px 1px rgba(60, 64, 67, 0.15);\n",
              "      fill: #174EA6;\n",
              "    }\n",
              "\n",
              "    [theme=dark] .colab-df-convert {\n",
              "      background-color: #3B4455;\n",
              "      fill: #D2E3FC;\n",
              "    }\n",
              "\n",
              "    [theme=dark] .colab-df-convert:hover {\n",
              "      background-color: #434B5C;\n",
              "      box-shadow: 0px 1px 3px 1px rgba(0, 0, 0, 0.15);\n",
              "      filter: drop-shadow(0px 1px 2px rgba(0, 0, 0, 0.3));\n",
              "      fill: #FFFFFF;\n",
              "    }\n",
              "  </style>\n",
              "\n",
              "      <script>\n",
              "        const buttonEl =\n",
              "          document.querySelector('#df-312ffcc4-21f4-419a-819f-e2f573c8caf9 button.colab-df-convert');\n",
              "        buttonEl.style.display =\n",
              "          google.colab.kernel.accessAllowed ? 'block' : 'none';\n",
              "\n",
              "        async function convertToInteractive(key) {\n",
              "          const element = document.querySelector('#df-312ffcc4-21f4-419a-819f-e2f573c8caf9');\n",
              "          const dataTable =\n",
              "            await google.colab.kernel.invokeFunction('convertToInteractive',\n",
              "                                                     [key], {});\n",
              "          if (!dataTable) return;\n",
              "\n",
              "          const docLinkHtml = 'Like what you see? Visit the ' +\n",
              "            '<a target=\"_blank\" href=https://colab.research.google.com/notebooks/data_table.ipynb>data table notebook</a>'\n",
              "            + ' to learn more about interactive tables.';\n",
              "          element.innerHTML = '';\n",
              "          dataTable['output_type'] = 'display_data';\n",
              "          await google.colab.output.renderOutput(dataTable, element);\n",
              "          const docLink = document.createElement('div');\n",
              "          docLink.innerHTML = docLinkHtml;\n",
              "          element.appendChild(docLink);\n",
              "        }\n",
              "      </script>\n",
              "    </div>\n",
              "  </div>\n",
              "  "
            ]
          },
          "metadata": {},
          "execution_count": 30
        }
      ]
    },
    {
      "cell_type": "code",
      "source": [
        "x=df[['occupation','education','marry','color',' Age',' Height (cm)',' Weight (kg)',' Income (USD)']]\n",
        "y=df['gender']"
      ],
      "metadata": {
        "id": "K1CIVQnrrndV"
      },
      "execution_count": null,
      "outputs": []
    },
    {
      "cell_type": "code",
      "source": [
        "from sklearn.model_selection import train_test_split\n",
        "x_train,x_test,y_train,y_test=train_test_split(x,y)"
      ],
      "metadata": {
        "id": "zeqm0DSvvkqn"
      },
      "execution_count": null,
      "outputs": []
    },
    {
      "cell_type": "code",
      "source": [
        "from sklearn.tree import DecisionTreeClassifier\n",
        "tree=DecisionTreeClassifier()\n",
        "tree.fit(x_train,y_train)\n",
        "print('The decision tree score: ',tree.score(x_test,y_test))"
      ],
      "metadata": {
        "colab": {
          "base_uri": "https://localhost:8080/"
        },
        "id": "kAEHxWMuvSv5",
        "outputId": "891f5b29-c480-456d-ec37-9efd001489b8"
      },
      "execution_count": null,
      "outputs": [
        {
          "output_type": "stream",
          "name": "stdout",
          "text": [
            "The decision tree score:  0.9696969696969697\n"
          ]
        }
      ]
    }
  ]
}